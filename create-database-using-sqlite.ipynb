{
 "cells": [
  {
   "cell_type": "markdown",
   "id": "66ec2a35",
   "metadata": {},
   "source": [
    "# Creating an SQLite database\n",
    "\n",
    "In this tutorial, we'll create a simple house price data database using SQLite."
   ]
  },
  {
   "cell_type": "markdown",
   "id": "265792ba",
   "metadata": {},
   "source": [
    "## Prepare data for an SQL schema\n",
    "\n",
    "First off, we use Pandas to take a look at the data we want to load into SQLite. We add a \"market_id\" column which is the unique identifier per row. Later we'll use this a primary key in a table."
   ]
  },
  {
   "cell_type": "code",
   "execution_count": 1,
   "id": "8872a7b0",
   "metadata": {},
   "outputs": [],
   "source": [
    "import pandas as pd"
   ]
  },
  {
   "cell_type": "code",
   "execution_count": 2,
   "id": "cc7efeec",
   "metadata": {},
   "outputs": [
    {
     "data": {
      "text/html": [
       "<div>\n",
       "<style scoped>\n",
       "    .dataframe tbody tr th:only-of-type {\n",
       "        vertical-align: middle;\n",
       "    }\n",
       "\n",
       "    .dataframe tbody tr th {\n",
       "        vertical-align: top;\n",
       "    }\n",
       "\n",
       "    .dataframe thead th {\n",
       "        text-align: right;\n",
       "    }\n",
       "</style>\n",
       "<table border=\"1\" class=\"dataframe\">\n",
       "  <thead>\n",
       "    <tr style=\"text-align: right;\">\n",
       "      <th></th>\n",
       "      <th>price</th>\n",
       "      <th>bedrooms</th>\n",
       "      <th>bathrooms</th>\n",
       "      <th>estate_agent_code</th>\n",
       "      <th>transport_link_code</th>\n",
       "      <th>council_tax</th>\n",
       "      <th>freehold</th>\n",
       "      <th>garage</th>\n",
       "      <th>parking</th>\n",
       "      <th>market_id</th>\n",
       "    </tr>\n",
       "  </thead>\n",
       "  <tbody>\n",
       "    <tr>\n",
       "      <th>0</th>\n",
       "      <td>304000</td>\n",
       "      <td>4</td>\n",
       "      <td>3</td>\n",
       "      <td>4</td>\n",
       "      <td>7</td>\n",
       "      <td>F</td>\n",
       "      <td>True</td>\n",
       "      <td>True</td>\n",
       "      <td>False</td>\n",
       "      <td>prop_0</td>\n",
       "    </tr>\n",
       "    <tr>\n",
       "      <th>1</th>\n",
       "      <td>218000</td>\n",
       "      <td>2</td>\n",
       "      <td>3</td>\n",
       "      <td>3</td>\n",
       "      <td>7</td>\n",
       "      <td>B</td>\n",
       "      <td>False</td>\n",
       "      <td>True</td>\n",
       "      <td>False</td>\n",
       "      <td>prop_1</td>\n",
       "    </tr>\n",
       "  </tbody>\n",
       "</table>\n",
       "</div>"
      ],
      "text/plain": [
       "    price  bedrooms  bathrooms  estate_agent_code  transport_link_code  \\\n",
       "0  304000         4          3                  4                    7   \n",
       "1  218000         2          3                  3                    7   \n",
       "\n",
       "  council_tax  freehold  garage  parking market_id  \n",
       "0           F      True    True    False    prop_0  \n",
       "1           B     False    True    False    prop_1  "
      ]
     },
     "execution_count": 2,
     "metadata": {},
     "output_type": "execute_result"
    }
   ],
   "source": [
    "df = pd.read_csv(\"data/housing-data.csv\")[:20]\n",
    "\n",
    "## Add a market_id column which will become the primary key for the table below\n",
    "\n",
    "df[\"market_id\"] = [ f\"prop_{i}\" for i in range(len(df))]\n",
    "\n",
    "df.head(2)"
   ]
  },
  {
   "cell_type": "markdown",
   "id": "f0a3f8c2",
   "metadata": {},
   "source": [
    "## Prepare an empty SQL database\n",
    "\n",
    "Next we create an empty database called \"housing.db\" which we store in the local file system. "
   ]
  },
  {
   "cell_type": "code",
   "execution_count": 3,
   "id": "06c13ef0",
   "metadata": {},
   "outputs": [],
   "source": [
    "from sqlalchemy import create_engine\n",
    "from pathlib import Path"
   ]
  },
  {
   "cell_type": "code",
   "execution_count": 4,
   "id": "1b1bc44e",
   "metadata": {},
   "outputs": [],
   "source": [
    "database_relative_path = \"data/housing.db\"\n",
    "\n",
    "database_path = Path.cwd().joinpath(database_relative_path)\n",
    "\n",
    "engine = create_engine(f'sqlite:///{database_path}', echo=True)"
   ]
  },
  {
   "cell_type": "markdown",
   "id": "f717c929",
   "metadata": {},
   "source": [
    "## Create models\n",
    "\n",
    "Then we create some models using sqlalchemy to map Python objects into the database schema. For a more in depth example, have a look at [this page](https://docs.sqlalchemy.org/en/20/orm/quickstart.html)."
   ]
  },
  {
   "cell_type": "code",
   "execution_count": 5,
   "id": "11763bfe",
   "metadata": {},
   "outputs": [],
   "source": [
    "from typing import List\n",
    "from typing import Optional\n",
    "from sqlalchemy import ForeignKey\n",
    "from sqlalchemy import String, Float, Integer\n",
    "from sqlalchemy.orm import DeclarativeBase\n",
    "from sqlalchemy.orm import Mapped\n",
    "from sqlalchemy.orm import mapped_column\n",
    "from sqlalchemy.orm import relationship\n",
    "\n",
    "class Base(DeclarativeBase):\n",
    "    pass\n",
    "\n",
    "class HousingMarket(Base):\n",
    "    \n",
    "    __tablename__ = \"housing_market\"\n",
    "    \n",
    "    market_id: Mapped[str] = mapped_column(primary_key=True)\n",
    "    price: Mapped[float] = mapped_column(Float())\n",
    "    bedrooms: Mapped[int] = mapped_column(Integer())\n",
    "    bathrooms: Mapped[int] = mapped_column(Integer())\n",
    "    estate_agent_code: Mapped[int] = mapped_column(Integer())\n",
    "    transport_link_code: Mapped[int] = mapped_column(Integer())\n",
    "    council_tax: Mapped[str] = mapped_column(String())\n",
    "    freehold: Mapped[int] = mapped_column(Integer())\n",
    "    garage: Mapped[int] = mapped_column(Integer()) \n",
    "    parking: Mapped[int] = mapped_column(Integer()) \n",
    "        \n",
    "class TransportCodes(Base):\n",
    "    \n",
    "    __tablename__ = \"transport_codes\"\n",
    "    \n",
    "    transport_code: Mapped[int] = mapped_column(ForeignKey(\"housing_market.transport_link_code\"), primary_key=True)\n",
    "    transport_string: Mapped[str] = mapped_column(String())\n",
    "\n",
    "        \n",
    "class EstageAgentCodes(Base):\n",
    "    \n",
    "    __tablename__ = \"estate_agent_codes\"\n",
    "    \n",
    "    estate_agent_code: Mapped[int] = mapped_column(ForeignKey(\"housing_market.estate_agent_code\"), primary_key=True)\n",
    "    estate_agent_string: Mapped[str] = mapped_column(String())\n",
    "        "
   ]
  },
  {
   "cell_type": "code",
   "execution_count": 6,
   "id": "aae49e71",
   "metadata": {},
   "outputs": [
    {
     "name": "stdout",
     "output_type": "stream",
     "text": [
      "2023-02-26 17:02:44,001 INFO sqlalchemy.engine.Engine BEGIN (implicit)\n",
      "2023-02-26 17:02:44,003 INFO sqlalchemy.engine.Engine PRAGMA main.table_info(\"housing_market\")\n",
      "2023-02-26 17:02:44,003 INFO sqlalchemy.engine.Engine [raw sql] ()\n",
      "2023-02-26 17:02:44,003 INFO sqlalchemy.engine.Engine PRAGMA temp.table_info(\"housing_market\")\n",
      "2023-02-26 17:02:44,003 INFO sqlalchemy.engine.Engine [raw sql] ()\n",
      "2023-02-26 17:02:44,003 INFO sqlalchemy.engine.Engine PRAGMA main.table_info(\"transport_codes\")\n",
      "2023-02-26 17:02:44,003 INFO sqlalchemy.engine.Engine [raw sql] ()\n",
      "2023-02-26 17:02:44,003 INFO sqlalchemy.engine.Engine PRAGMA main.table_info(\"estate_agent_codes\")\n",
      "2023-02-26 17:02:44,003 INFO sqlalchemy.engine.Engine [raw sql] ()\n",
      "2023-02-26 17:02:44,003 INFO sqlalchemy.engine.Engine PRAGMA temp.table_info(\"estate_agent_codes\")\n",
      "2023-02-26 17:02:44,003 INFO sqlalchemy.engine.Engine [raw sql] ()\n",
      "2023-02-26 17:02:44,003 INFO sqlalchemy.engine.Engine \n",
      "CREATE TABLE housing_market (\n",
      "\tmarket_id VARCHAR NOT NULL, \n",
      "\tprice FLOAT NOT NULL, \n",
      "\tbedrooms INTEGER NOT NULL, \n",
      "\tbathrooms INTEGER NOT NULL, \n",
      "\testate_agent_code INTEGER NOT NULL, \n",
      "\ttransport_link_code INTEGER NOT NULL, \n",
      "\tcouncil_tax VARCHAR NOT NULL, \n",
      "\tfreehold INTEGER NOT NULL, \n",
      "\tgarage INTEGER NOT NULL, \n",
      "\tparking INTEGER NOT NULL, \n",
      "\tPRIMARY KEY (market_id)\n",
      ")\n",
      "\n",
      "\n",
      "2023-02-26 17:02:44,003 INFO sqlalchemy.engine.Engine [no key 0.00049s] ()\n",
      "2023-02-26 17:02:44,003 INFO sqlalchemy.engine.Engine \n",
      "CREATE TABLE estate_agent_codes (\n",
      "\testate_agent_code INTEGER NOT NULL, \n",
      "\testate_agent_string VARCHAR NOT NULL, \n",
      "\tPRIMARY KEY (estate_agent_code), \n",
      "\tFOREIGN KEY(estate_agent_code) REFERENCES housing_market (estate_agent_code)\n",
      ")\n",
      "\n",
      "\n",
      "2023-02-26 17:02:44,003 INFO sqlalchemy.engine.Engine [no key 0.00041s] ()\n",
      "2023-02-26 17:02:44,021 INFO sqlalchemy.engine.Engine COMMIT\n"
     ]
    }
   ],
   "source": [
    "Base.metadata.create_all(engine)"
   ]
  },
  {
   "cell_type": "markdown",
   "id": "a5b0f4ed",
   "metadata": {},
   "source": [
    "## Populate tables with data\n",
    "\n",
    "The we populate our tables with data using the data from the DataFrame."
   ]
  },
  {
   "cell_type": "code",
   "execution_count": 7,
   "id": "cf696a8b",
   "metadata": {},
   "outputs": [
    {
     "name": "stdout",
     "output_type": "stream",
     "text": [
      "2023-02-26 17:02:44,038 INFO sqlalchemy.engine.Engine BEGIN (implicit)\n",
      "2023-02-26 17:02:44,038 INFO sqlalchemy.engine.Engine INSERT INTO housing_market (market_id, price, bedrooms, bathrooms, estate_agent_code, transport_link_code, council_tax, freehold, garage, parking) VALUES (?, ?, ?, ?, ?, ?, ?, ?, ?, ?)\n",
      "2023-02-26 17:02:44,038 INFO sqlalchemy.engine.Engine [generated in 0.00069s] [('prop_0', 304000.0, 4, 3, 4, 7, 'F', True, True, False), ('prop_1', 218000.0, 2, 3, 3, 7, 'B', False, True, False), ('prop_2', 100000.0, 1, 2, 5, 8, 'C', True, False, True), ('prop_3', 758000.0, 4, 3, 4, 4, 'D', True, False, True), ('prop_4', 171000.0, 2, 2, 5, 2, 'B', True, False, False), ('prop_5', 764000.0, 5, 5, 5, 7, 'F', True, False, True), ('prop_6', 369000.0, 4, 3, 3, 7, 'D', True, False, True), ('prop_7', 158000.0, 2, 2, 2, 1, 'A', False, False, True)  ... displaying 10 of 20 total bound parameter sets ...  ('prop_18', 382000.0, 3, 5, 4, 6, 'F', True, True, False), ('prop_19', 128000.0, 2, 2, 5, 7, 'A', True, False, True)]\n",
      "2023-02-26 17:02:44,038 INFO sqlalchemy.engine.Engine COMMIT\n"
     ]
    }
   ],
   "source": [
    "from sqlalchemy.orm import Session\n",
    "\n",
    "with Session(engine) as session:\n",
    "    \n",
    "    db_rows = []\n",
    "    \n",
    "    for index, row in df.iterrows():\n",
    "        \n",
    "        house_item = HousingMarket(\n",
    "        \n",
    "            market_id = row.market_id,\n",
    "            price = row.price,\n",
    "            bedrooms = row.bedrooms,\n",
    "            bathrooms = row.bathrooms,\n",
    "            estate_agent_code = row.estate_agent_code,\n",
    "            transport_link_code = row.transport_link_code,\n",
    "            council_tax = row.council_tax,\n",
    "            freehold = row.freehold,\n",
    "            garage = row.garage,\n",
    "            parking = row.parking,\n",
    "        )\n",
    "        \n",
    "        db_rows.append(house_item)\n",
    "        \n",
    "    session.add_all(db_rows)\n",
    "    session.commit()"
   ]
  },
  {
   "cell_type": "code",
   "execution_count": 8,
   "id": "08b84945",
   "metadata": {},
   "outputs": [],
   "source": [
    "estate_agent_mapping = {\n",
    "    \n",
    "    1: \"Clapham\",\n",
    "    2: \"Deptford\",\n",
    "    3: \"Brixton\",\n",
    "    4: \"Richmond\",\n",
    "    5: \"Isle of Dogs\"\n",
    "}"
   ]
  },
  {
   "cell_type": "code",
   "execution_count": 9,
   "id": "27fb0e58",
   "metadata": {},
   "outputs": [
    {
     "name": "stdout",
     "output_type": "stream",
     "text": [
      "2023-02-26 17:02:44,075 INFO sqlalchemy.engine.Engine BEGIN (implicit)\n",
      "2023-02-26 17:02:44,075 INFO sqlalchemy.engine.Engine INSERT INTO estate_agent_codes (estate_agent_code, estate_agent_string) VALUES (?, ?)\n",
      "2023-02-26 17:02:44,075 INFO sqlalchemy.engine.Engine [generated in 0.00043s] [(1, 'Clapham'), (2, 'Deptford'), (3, 'Brixton'), (4, 'Richmond'), (5, 'Isle of Dogs')]\n",
      "2023-02-26 17:02:44,075 INFO sqlalchemy.engine.Engine COMMIT\n"
     ]
    }
   ],
   "source": [
    "from sqlalchemy.orm import Session\n",
    "\n",
    "with Session(engine) as session:\n",
    "    \n",
    "    db_rows = []\n",
    "    \n",
    "    for code in estate_agent_mapping:\n",
    "        \n",
    "        estate_agent_code = EstageAgentCodes(\n",
    "        \n",
    "            estate_agent_code = code,\n",
    "            estate_agent_string = estate_agent_mapping.get(code),\n",
    "        )\n",
    "        \n",
    "        db_rows.append(estate_agent_code)\n",
    "        \n",
    "    session.add_all(db_rows)\n",
    "    session.commit()"
   ]
  },
  {
   "cell_type": "markdown",
   "id": "8b85fd20",
   "metadata": {},
   "source": [
    "## Query data from database\n",
    "\n",
    "Finally, to verify that the data has been loaded correctly, we run a test query."
   ]
  },
  {
   "cell_type": "code",
   "execution_count": 10,
   "id": "fc4d50d3",
   "metadata": {},
   "outputs": [],
   "source": [
    "sql_query_string = \"\"\"\n",
    "SELECT \n",
    "eac.estate_agent_string,\n",
    "hm.market_id,\n",
    "hm.price, \n",
    "hm.bedrooms \n",
    "FROM housing_market hm\n",
    "JOIN estate_agent_codes eac on (hm.estate_agent_code = eac.estate_agent_code)\n",
    "where eac.estate_agent_string in (\"Richmond\", \"Clapham\")\n",
    "\n",
    "\"\"\""
   ]
  },
  {
   "cell_type": "code",
   "execution_count": 11,
   "id": "83e3ef0d",
   "metadata": {},
   "outputs": [
    {
     "name": "stdout",
     "output_type": "stream",
     "text": [
      "2023-02-26 17:02:44,119 INFO sqlalchemy.engine.Engine BEGIN (implicit)\n",
      "2023-02-26 17:02:44,120 INFO sqlalchemy.engine.Engine \n",
      "SELECT \n",
      "eac.estate_agent_string,\n",
      "hm.market_id,\n",
      "hm.price, \n",
      "hm.bedrooms \n",
      "FROM housing_market hm\n",
      "JOIN estate_agent_codes eac on (hm.estate_agent_code = eac.estate_agent_code)\n",
      "where eac.estate_agent_string in (\"Richmond\", \"Clapham\")\n",
      "\n",
      "\n",
      "2023-02-26 17:02:44,122 INFO sqlalchemy.engine.Engine [generated in 0.00106s] ()\n",
      "estate_agent_string    market_id      price    bedrooms\n",
      "---------------------  -----------  -------  ----------\n",
      "Richmond               prop_0        304000           4\n",
      "Richmond               prop_3        758000           4\n",
      "Richmond               prop_8        228000           4\n",
      "Richmond               prop_9        209000           2\n",
      "Richmond               prop_16       313000           3\n",
      "Richmond               prop_18       382000           3\n",
      "2023-02-26 17:02:44,122 INFO sqlalchemy.engine.Engine ROLLBACK\n"
     ]
    }
   ],
   "source": [
    "from sqlalchemy import sql\n",
    "from  sqlalchemy.exc import OperationalError\n",
    "from tabulate import tabulate\n",
    "\n",
    "str_sql = sql.text(sql_query_string)\n",
    "\n",
    "with Session(engine) as session:\n",
    "    \n",
    "    query = session.execute(str_sql)\n",
    "    \n",
    "    query_results = query.fetchall()\n",
    "        \n",
    "    print(tabulate(query_results, headers=query.keys(), tablefmt='sqlite'))"
   ]
  },
  {
   "cell_type": "markdown",
   "id": "a9545b70",
   "metadata": {},
   "source": [
    "## Drop tables\n",
    "\n",
    "Then we drop the table, to keep the example idempotent for the next run."
   ]
  },
  {
   "cell_type": "code",
   "execution_count": 12,
   "id": "ba07d5b8",
   "metadata": {},
   "outputs": [
    {
     "name": "stdout",
     "output_type": "stream",
     "text": [
      "2023-02-26 17:02:44,140 INFO sqlalchemy.engine.Engine BEGIN (implicit)\n",
      "2023-02-26 17:02:44,140 INFO sqlalchemy.engine.Engine drop table estate_agent_codes\n",
      "2023-02-26 17:02:44,140 INFO sqlalchemy.engine.Engine [generated in 0.00083s] ()\n",
      "2023-02-26 17:02:44,153 INFO sqlalchemy.engine.Engine ROLLBACK\n",
      "2023-02-26 17:02:44,154 INFO sqlalchemy.engine.Engine BEGIN (implicit)\n",
      "2023-02-26 17:02:44,156 INFO sqlalchemy.engine.Engine drop table housing_market\n",
      "2023-02-26 17:02:44,156 INFO sqlalchemy.engine.Engine [generated in 0.00089s] ()\n",
      "2023-02-26 17:02:44,156 INFO sqlalchemy.engine.Engine ROLLBACK\n"
     ]
    }
   ],
   "source": [
    "def drop_tables(table_name):\n",
    "\n",
    "    str_sql = sql.text(f\"drop table {table_name}\")\n",
    "\n",
    "    with Session(engine) as session:\n",
    "\n",
    "        try:\n",
    "\n",
    "            query = session.execute(str_sql)\n",
    "\n",
    "        except OperationalError as e:\n",
    "\n",
    "            print(e)\n",
    "            \n",
    "\n",
    "drop_tables(\"estate_agent_codes\")\n",
    "drop_tables(\"housing_market\")"
   ]
  }
 ],
 "metadata": {
  "kernelspec": {
   "display_name": "Python 3 (ipykernel)",
   "language": "python",
   "name": "python3"
  },
  "language_info": {
   "codemirror_mode": {
    "name": "ipython",
    "version": 3
   },
   "file_extension": ".py",
   "mimetype": "text/x-python",
   "name": "python",
   "nbconvert_exporter": "python",
   "pygments_lexer": "ipython3",
   "version": "3.10.0"
  }
 },
 "nbformat": 4,
 "nbformat_minor": 5
}
