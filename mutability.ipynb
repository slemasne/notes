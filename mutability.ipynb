{
 "cells": [
  {
   "cell_type": "markdown",
   "id": "65a4925c",
   "metadata": {},
   "source": [
    "# Mutable versus immutable objects\n",
    "\n",
    "In this post, we'll have a look at mutable versus immutable objects in Python. Mutable objects are objects we can change whereas immutable objects are objects we cannot change. \n",
    "\n",
    "Before we jump in, let's have a quick look at the `id` function in Python. From the official Python docs:\n",
    "\n",
    "\n",
    "<i>Return the “identity” of an object. This is an integer which is guaranteed to be unique and constant for this object during its lifetime. Two objects with non-overlapping lifetimes may have the same id() value.</i>\n",
    "\n",
    "\n",
    "Why is this function helpful? We can use this function to verify that a mutable object has the same ID after we have changed it. "
   ]
  },
  {
   "cell_type": "code",
   "execution_count": 10,
   "id": "5954126b",
   "metadata": {},
   "outputs": [],
   "source": [
    "# Create helper function to print object memory ID\n",
    "\n",
    "def log_memory_address_id(a):\n",
    "    \n",
    "    print(f\"The list has internal memory address id: {id(a)}\")"
   ]
  },
  {
   "cell_type": "markdown",
   "id": "032677c1",
   "metadata": {},
   "source": [
    "## Lists are mutable - we can change lists\n",
    "\n",
    "Let's create a list to represent three of London's tube lines:"
   ]
  },
  {
   "cell_type": "code",
   "execution_count": 11,
   "id": "96ed64f2",
   "metadata": {},
   "outputs": [
    {
     "name": "stdout",
     "output_type": "stream",
     "text": [
      "['nothern', 'central', 'circle']\n",
      "The list has internal memory address id: 2454400216128\n"
     ]
    }
   ],
   "source": [
    "a = [\"nothern\", \"central\", \"circle\"]\n",
    "\n",
    "print(a)\n",
    "\n",
    "log_memory_address_id(a)"
   ]
  },
  {
   "cell_type": "markdown",
   "id": "10739890",
   "metadata": {},
   "source": [
    "Next we append a new line to the list and verify that the list has the same ID:"
   ]
  },
  {
   "cell_type": "code",
   "execution_count": 12,
   "id": "38cf0588",
   "metadata": {},
   "outputs": [
    {
     "name": "stdout",
     "output_type": "stream",
     "text": [
      "['nothern', 'central', 'circle', 'city']\n",
      "The list has internal memory address id: 2454400216128\n"
     ]
    }
   ],
   "source": [
    "a.append(\"city\")\n",
    "\n",
    "print(a)\n",
    "\n",
    "log_memory_address_id(a)"
   ]
  },
  {
   "cell_type": "markdown",
   "id": "9d6ef8d5",
   "metadata": {},
   "source": [
    "## Strings are immutable - we cannot change strings\n",
    "\n",
    "Next we'll have a look at strings. This time, however, we cannot modify a string object after it has been declared. Instead we need to declare a copy of the string object with any modifications (at the point of string initialization)."
   ]
  },
  {
   "cell_type": "code",
   "execution_count": 13,
   "id": "df81e70c",
   "metadata": {},
   "outputs": [
    {
     "data": {
      "text/plain": [
       "2454399439024"
      ]
     },
     "execution_count": 13,
     "metadata": {},
     "output_type": "execute_result"
    }
   ],
   "source": [
    "tube_line = \"northern\"\n",
    "\n",
    "id(tube_line)"
   ]
  },
  {
   "cell_type": "code",
   "execution_count": 14,
   "id": "af992104",
   "metadata": {},
   "outputs": [
    {
     "data": {
      "text/plain": [
       "2454401150000"
      ]
     },
     "execution_count": 14,
     "metadata": {},
     "output_type": "execute_result"
    }
   ],
   "source": [
    "# The new object has a different Id\n",
    "\n",
    "id(tube_line + \"_tfl\")"
   ]
  },
  {
   "cell_type": "markdown",
   "id": "52f946eb",
   "metadata": {},
   "source": [
    "## What about other objects?\n",
    "\n",
    "Below we've provided a summary of the mutability of other Python objects:"
   ]
  },
  {
   "cell_type": "markdown",
   "id": "e5a9b245",
   "metadata": {},
   "source": [
    "\n",
    "\n",
    "| Object | Immutable? |\n",
    "| --- | --- |\n",
    "| bool | Y |\n",
    "| int | Y |\n",
    "| float | Y |\n",
    "| tuple | Y |\n",
    "| string | Y |\n",
    "| list | N |\n",
    "| set | N |\n",
    "| dict | N |"
   ]
  },
  {
   "cell_type": "code",
   "execution_count": null,
   "id": "0c120121",
   "metadata": {},
   "outputs": [],
   "source": []
  }
 ],
 "metadata": {
  "kernelspec": {
   "display_name": "Python 3 (ipykernel)",
   "language": "python",
   "name": "python3"
  },
  "language_info": {
   "codemirror_mode": {
    "name": "ipython",
    "version": 3
   },
   "file_extension": ".py",
   "mimetype": "text/x-python",
   "name": "python",
   "nbconvert_exporter": "python",
   "pygments_lexer": "ipython3",
   "version": "3.10.0"
  }
 },
 "nbformat": 4,
 "nbformat_minor": 5
}
