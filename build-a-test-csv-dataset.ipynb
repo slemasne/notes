{
 "cells": [
  {
   "cell_type": "markdown",
   "id": "7ea73b48",
   "metadata": {},
   "source": [
    "# Build a test CSV dataset and load to S3\n",
    "\n",
    "In this tutorial, we'll build a test CSV which we'll load onto AWS S3. The dataset will be a simple housing dataset showing attributes such as price, number of bedrooms etc. The data is entirely fabricated."
   ]
  },
  {
   "cell_type": "markdown",
   "id": "21b1c7d0",
   "metadata": {},
   "source": [
    "## Import setup packages"
   ]
  },
  {
   "cell_type": "code",
   "execution_count": 1,
   "id": "48e02a6f",
   "metadata": {},
   "outputs": [],
   "source": [
    "import pandas as pd\n",
    "import tomli\n",
    "import pprint\n",
    "\n",
    "# We'll use random type functions to generate the random house price data\n",
    "from random import choice, randint\n",
    "from numpy.random import normal"
   ]
  },
  {
   "cell_type": "markdown",
   "id": "fb730909",
   "metadata": {},
   "source": [
    "## Import config using a TOML file\n",
    "\n",
    "We'll store our config in a TOML file. The config will contain basic instructions for creating the test data. For example, we specify a min and a max when generating a random int for \"number of bedrooms\".\n",
    "\n",
    "\n",
    "_Contents of config/housing.toml_\n",
    "\n",
    "```yaml\n",
    "# Config for creating a housing dataset\n",
    "\n",
    "[price]\n",
    "type = \"dist\"\n",
    "mean = 500000\n",
    "sd = 200000\n",
    "\n",
    "[area]\n",
    "type = \"min_max\"\n",
    "max = 300\n",
    "min = 50\n",
    "\n",
    "[bathrooms]\n",
    "type = \"min_max\"\n",
    "max = 5\n",
    "min = 1\n",
    "\n",
    "[bedrooms]\n",
    "type = \"min_max\"\n",
    "max = 5\n",
    "min = 1\n",
    "\n",
    "[garage]\n",
    "type = \"bool\"\n",
    "\n",
    "[parking]\n",
    "type = \"bool\"\n",
    "\n",
    "[council_tax_band]\n",
    "type = \"list\"\n",
    "list = [\"A\", \"B\", \"C\", \"D\", \"E\"]\n",
    "\n",
    "```"
   ]
  },
  {
   "cell_type": "code",
   "execution_count": 2,
   "id": "87c2e96d",
   "metadata": {},
   "outputs": [
    {
     "name": "stdout",
     "output_type": "stream",
     "text": [
      "{'area': {'max': 300, 'min': 50, 'type': 'min_max'},\n",
      " 'bathrooms': {'max': 5, 'min': 1, 'type': 'min_max'},\n",
      " 'bedrooms': {'max': 5, 'min': 1, 'type': 'min_max'},\n",
      " 'council_tax_band': {'list': ['A', 'B', 'C', 'D', 'E'], 'type': 'list'},\n",
      " 'garage': {'type': 'bool'},\n",
      " 'parking': {'type': 'bool'},\n",
      " 'price': {'mean': 500000, 'sd': 200000, 'type': 'dist'}}\n"
     ]
    }
   ],
   "source": [
    "with open('config/housing.toml', 'rb') as file_obj:\n",
    "    housing_config = tomli.load(file_obj)\n",
    "    \n",
    "pprint.pprint(housing_config)"
   ]
  },
  {
   "cell_type": "markdown",
   "id": "51c32b63",
   "metadata": {},
   "source": [
    "## Build random data using the config file\n",
    "\n",
    "Next we build our random data using the TOML file. We have two functions below:\n",
    "    \n",
    "1. The first returns a random data point based on the config passed in\n",
    "2. The second builds a DataFrame using these data points"
   ]
  },
  {
   "cell_type": "code",
   "execution_count": 3,
   "id": "c02204a6",
   "metadata": {},
   "outputs": [],
   "source": [
    "def build_random_housing_column_value(attribute):\n",
    "        \n",
    "    if attribute[\"type\"] == \"min_max\":\n",
    "        \n",
    "        return randint(attribute[\"min\"], attribute[\"max\"] )\n",
    "    \n",
    "    elif attribute.get(\"type\") == \"bool\":\n",
    "        \n",
    "        return choice([True, False])\n",
    "    \n",
    "    elif attribute.get(\"type\") == \"dist\":\n",
    "        \n",
    "        sample_price = normal(loc=attribute[\"mean\"], scale=attribute[\"sd\"], size=1)[0]\n",
    "        \n",
    "        return int(round(sample_price, -3))\n",
    "    \n",
    "    elif attribute.get(\"type\") == \"list\":\n",
    "        \n",
    "        return choice(attribute[\"list\"])\n",
    "    "
   ]
  },
  {
   "cell_type": "code",
   "execution_count": 4,
   "id": "e591eddf",
   "metadata": {},
   "outputs": [],
   "source": [
    "def generate_housing_data_df(sample_size=1000000):\n",
    "\n",
    "    df_cols = {}\n",
    "\n",
    "    for col in housing_config:\n",
    "\n",
    "        column_config = housing_config[col]\n",
    "\n",
    "        df_cols[col] = [build_random_housing_column_value(column_config) for i in range(0, sample_size)]\n",
    "        \n",
    "    return  pd.DataFrame(df_cols)"
   ]
  },
  {
   "cell_type": "code",
   "execution_count": 5,
   "id": "cbc7d8e2",
   "metadata": {},
   "outputs": [
    {
     "data": {
      "text/html": [
       "<div>\n",
       "<style scoped>\n",
       "    .dataframe tbody tr th:only-of-type {\n",
       "        vertical-align: middle;\n",
       "    }\n",
       "\n",
       "    .dataframe tbody tr th {\n",
       "        vertical-align: top;\n",
       "    }\n",
       "\n",
       "    .dataframe thead th {\n",
       "        text-align: right;\n",
       "    }\n",
       "</style>\n",
       "<table border=\"1\" class=\"dataframe\">\n",
       "  <thead>\n",
       "    <tr style=\"text-align: right;\">\n",
       "      <th></th>\n",
       "      <th>price</th>\n",
       "      <th>area</th>\n",
       "      <th>bathrooms</th>\n",
       "      <th>bedrooms</th>\n",
       "      <th>garage</th>\n",
       "      <th>parking</th>\n",
       "      <th>council_tax_band</th>\n",
       "    </tr>\n",
       "  </thead>\n",
       "  <tbody>\n",
       "    <tr>\n",
       "      <th>0</th>\n",
       "      <td>695000</td>\n",
       "      <td>202</td>\n",
       "      <td>2</td>\n",
       "      <td>4</td>\n",
       "      <td>False</td>\n",
       "      <td>True</td>\n",
       "      <td>B</td>\n",
       "    </tr>\n",
       "    <tr>\n",
       "      <th>1</th>\n",
       "      <td>574000</td>\n",
       "      <td>218</td>\n",
       "      <td>5</td>\n",
       "      <td>4</td>\n",
       "      <td>True</td>\n",
       "      <td>True</td>\n",
       "      <td>E</td>\n",
       "    </tr>\n",
       "    <tr>\n",
       "      <th>2</th>\n",
       "      <td>408000</td>\n",
       "      <td>228</td>\n",
       "      <td>4</td>\n",
       "      <td>1</td>\n",
       "      <td>True</td>\n",
       "      <td>True</td>\n",
       "      <td>D</td>\n",
       "    </tr>\n",
       "  </tbody>\n",
       "</table>\n",
       "</div>"
      ],
      "text/plain": [
       "    price  area  bathrooms  bedrooms  garage  parking council_tax_band\n",
       "0  695000   202          2         4   False     True                B\n",
       "1  574000   218          5         4    True     True                E\n",
       "2  408000   228          4         1    True     True                D"
      ]
     },
     "execution_count": 5,
     "metadata": {},
     "output_type": "execute_result"
    }
   ],
   "source": [
    "df = generate_housing_data_df()\n",
    "df.head(3)"
   ]
  },
  {
   "cell_type": "code",
   "execution_count": 6,
   "id": "6567df20",
   "metadata": {},
   "outputs": [
    {
     "data": {
      "text/html": [
       "<div>\n",
       "<style scoped>\n",
       "    .dataframe tbody tr th:only-of-type {\n",
       "        vertical-align: middle;\n",
       "    }\n",
       "\n",
       "    .dataframe tbody tr th {\n",
       "        vertical-align: top;\n",
       "    }\n",
       "\n",
       "    .dataframe thead th {\n",
       "        text-align: right;\n",
       "    }\n",
       "</style>\n",
       "<table border=\"1\" class=\"dataframe\">\n",
       "  <thead>\n",
       "    <tr style=\"text-align: right;\">\n",
       "      <th></th>\n",
       "      <th>price</th>\n",
       "      <th>area</th>\n",
       "      <th>bathrooms</th>\n",
       "      <th>bedrooms</th>\n",
       "    </tr>\n",
       "  </thead>\n",
       "  <tbody>\n",
       "    <tr>\n",
       "      <th>count</th>\n",
       "      <td>1.000000e+06</td>\n",
       "      <td>1000000.000000</td>\n",
       "      <td>1000000.000000</td>\n",
       "      <td>1000000.000000</td>\n",
       "    </tr>\n",
       "    <tr>\n",
       "      <th>mean</th>\n",
       "      <td>4.997278e+05</td>\n",
       "      <td>175.034369</td>\n",
       "      <td>3.000174</td>\n",
       "      <td>2.999759</td>\n",
       "    </tr>\n",
       "    <tr>\n",
       "      <th>std</th>\n",
       "      <td>2.000181e+05</td>\n",
       "      <td>72.434211</td>\n",
       "      <td>1.413240</td>\n",
       "      <td>1.412847</td>\n",
       "    </tr>\n",
       "    <tr>\n",
       "      <th>min</th>\n",
       "      <td>-4.700000e+05</td>\n",
       "      <td>50.000000</td>\n",
       "      <td>1.000000</td>\n",
       "      <td>1.000000</td>\n",
       "    </tr>\n",
       "    <tr>\n",
       "      <th>25%</th>\n",
       "      <td>3.650000e+05</td>\n",
       "      <td>112.000000</td>\n",
       "      <td>2.000000</td>\n",
       "      <td>2.000000</td>\n",
       "    </tr>\n",
       "    <tr>\n",
       "      <th>50%</th>\n",
       "      <td>5.000000e+05</td>\n",
       "      <td>175.000000</td>\n",
       "      <td>3.000000</td>\n",
       "      <td>3.000000</td>\n",
       "    </tr>\n",
       "    <tr>\n",
       "      <th>75%</th>\n",
       "      <td>6.350000e+05</td>\n",
       "      <td>238.000000</td>\n",
       "      <td>4.000000</td>\n",
       "      <td>4.000000</td>\n",
       "    </tr>\n",
       "    <tr>\n",
       "      <th>max</th>\n",
       "      <td>1.502000e+06</td>\n",
       "      <td>300.000000</td>\n",
       "      <td>5.000000</td>\n",
       "      <td>5.000000</td>\n",
       "    </tr>\n",
       "  </tbody>\n",
       "</table>\n",
       "</div>"
      ],
      "text/plain": [
       "              price            area       bathrooms        bedrooms\n",
       "count  1.000000e+06  1000000.000000  1000000.000000  1000000.000000\n",
       "mean   4.997278e+05      175.034369        3.000174        2.999759\n",
       "std    2.000181e+05       72.434211        1.413240        1.412847\n",
       "min   -4.700000e+05       50.000000        1.000000        1.000000\n",
       "25%    3.650000e+05      112.000000        2.000000        2.000000\n",
       "50%    5.000000e+05      175.000000        3.000000        3.000000\n",
       "75%    6.350000e+05      238.000000        4.000000        4.000000\n",
       "max    1.502000e+06      300.000000        5.000000        5.000000"
      ]
     },
     "execution_count": 6,
     "metadata": {},
     "output_type": "execute_result"
    }
   ],
   "source": [
    "# Check the statistical dispersion of the sample data\n",
    "\n",
    "df.describe()"
   ]
  },
  {
   "cell_type": "markdown",
   "id": "f81e49e7",
   "metadata": {},
   "source": [
    "## Save CSV file to S3\n",
    "\n",
    "Finally, we save the CSV file to S3. Fortunately, the Pandas API does all of the \"heavy lifting\" to connect to AWS."
   ]
  },
  {
   "cell_type": "code",
   "execution_count": 7,
   "id": "297b4621",
   "metadata": {},
   "outputs": [],
   "source": [
    "S3_BUCKET_LOCATION = \"<BUCKET_LOCATION>\"\n",
    "\n",
    "df.to_csv(S3_BUCKET_LOCATION)"
   ]
  }
 ],
 "metadata": {
  "kernelspec": {
   "display_name": "Python 3 (ipykernel)",
   "language": "python",
   "name": "python3"
  },
  "language_info": {
   "codemirror_mode": {
    "name": "ipython",
    "version": 3
   },
   "file_extension": ".py",
   "mimetype": "text/x-python",
   "name": "python",
   "nbconvert_exporter": "python",
   "pygments_lexer": "ipython3",
   "version": "3.10.0"
  }
 },
 "nbformat": 4,
 "nbformat_minor": 5
}
