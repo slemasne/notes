{
 "cells": [
  {
   "cell_type": "markdown",
   "id": "7ea73b48",
   "metadata": {},
   "source": [
    "# Build a test data set of house price data\n",
    "\n",
    "In this tutorial, we'll build a test data set. The dataset will be a simple real estate dataset showing attributes such as price, number of bedrooms, parking etc. The data is entirely fabricated. Once created, we'll also show how you can load the data set as a CSV onto AWS S3."
   ]
  },
  {
   "cell_type": "markdown",
   "id": "21b1c7d0",
   "metadata": {},
   "source": [
    "## Import setup packages"
   ]
  },
  {
   "cell_type": "code",
   "execution_count": 1,
   "id": "48e02a6f",
   "metadata": {},
   "outputs": [],
   "source": [
    "import pandas as pd\n",
    "import tomli\n",
    "import pprint\n",
    "\n",
    "# We'll use random type functions to generate the random house price data\n",
    "import random"
   ]
  },
  {
   "cell_type": "markdown",
   "id": "fb730909",
   "metadata": {},
   "source": [
    "## Import config using a TOML file\n",
    "\n",
    "We'll store our config in a TOML file. The config will contain basic instructions for creating the test data. There are 4 tiers, each with different constraints. For example, in tier 1, we create house with prices in the range 100k to 200k.\n",
    "\n",
    "\n",
    "_Contents of config/housing.toml_\n",
    "\n",
    "```yaml\n",
    "# Config for creating a housing dataset\n",
    "\n",
    "[tier-1]\n",
    "price.range = \"100000-200000\"\n",
    "bedrooms.range = \"1-3\"\n",
    "bathrooms.range = \"1-3\"\n",
    "council_tax.list = [\"A\", \"B\", \"C\"]\n",
    "freehold.list = [true, false]\n",
    "garage.list = [false]\n",
    "parking.list = [true, false]\n",
    "\n",
    "[tier-2]\n",
    "price.range = \"200000-300000\"\n",
    "bedrooms.range = \"2-4\"\n",
    "bathrooms.range = \"2-4\"\n",
    "council_tax.list = [\"B\", \"C\", \"D\"]\n",
    "freehold.list = [true, false]\n",
    "garage.list = [true, false]\n",
    "parking.list = [true, false]\n",
    "\n",
    "[tier-3]\n",
    "price.range = \"300000-400000\"\n",
    "bedrooms.range = \"3-5\"\n",
    "bathrooms.range = \"3-5\"\n",
    "council_tax.list = [\"D\", \"E\", \"F\"]\n",
    "freehold.list = [true]\n",
    "garage.list = [true, false]\n",
    "parking.list = [true, false]\n",
    "\n",
    "[tier-4]\n",
    "price.range = \"400000-1000000\"\n",
    "bedrooms.range = \"3-8\"\n",
    "bathrooms.range = \"3-8\"\n",
    "council_tax.list = [\"D\", \"E\", \"F\"]\n",
    "freehold.list = [true]\n",
    "garage.list = [true, false]\n",
    "parking.list = [true]\n",
    "\n",
    "```"
   ]
  },
  {
   "cell_type": "code",
   "execution_count": 2,
   "id": "87c2e96d",
   "metadata": {},
   "outputs": [
    {
     "name": "stdout",
     "output_type": "stream",
     "text": [
      "{'bathrooms': {'range': '1-3'},\n",
      " 'bedrooms': {'range': '1-3'},\n",
      " 'council_tax': {'list': ['A', 'B', 'C']},\n",
      " 'freehold': {'list': [True, False]},\n",
      " 'garage': {'list': [False]},\n",
      " 'parking': {'list': [True, False]},\n",
      " 'price': {'range': '100000-200000'}}\n"
     ]
    }
   ],
   "source": [
    "with open('config/housing.toml', 'rb') as file_obj:\n",
    "    housing_config = tomli.load(file_obj)\n",
    "    \n",
    "pprint.pprint(housing_config[\"tier-1\"])"
   ]
  },
  {
   "cell_type": "markdown",
   "id": "51c32b63",
   "metadata": {},
   "source": [
    "## Build random data using the config file\n",
    "\n",
    "Next we build our random DataFrame using the TOML file. We use two main functions (plus some helper functions):\n",
    "\n",
    "1. The first function `generate_one_row_random_house_data` creates a random row of data per the config specification\n",
    "2. The second main function `generate_housing_df` uses the first function to create a large sample of data\n",
    "\n",
    "As always we try to keep our functions small:\n",
    "\n",
    "> <i>\"The first rule of functions is that they should be small. The second rule of functions is that they should be smaller than that.\"</i>  -Robert C. Martin, Clean Code: A Handbook of Agile Software Craftsmanship"
   ]
  },
  {
   "cell_type": "code",
   "execution_count": 3,
   "id": "da5873ac",
   "metadata": {},
   "outputs": [],
   "source": [
    "def get_randint_from_range_str(range_str):\n",
    "    \n",
    "    \"\"\"\n",
    "    Randomly returns an int in range\n",
    "    The range is parsed from string in the form '2-10'\n",
    "    If the value is greater than 100000, round to 3 decimal places \n",
    "    \"\"\"\n",
    "    \n",
    "    range_list = [int(i) for i in range_str.split(\"-\")]\n",
    "    \n",
    "    min_value, max_value = min(range_list), max(range_list)\n",
    "    \n",
    "    rand_int = random.randint(min_value, max_value)\n",
    "    \n",
    "    # For bigger numbers, such as price, we round to closest thousand\n",
    "    # House prices are more likely to be quoted rounded to the nearest thousand\n",
    "    \n",
    "    return rand_int if rand_int <= 100000 else round(rand_int, -3)"
   ]
  },
  {
   "cell_type": "code",
   "execution_count": 4,
   "id": "231e93cb",
   "metadata": {},
   "outputs": [],
   "source": [
    "def get_random_tier_config(housing_config):\n",
    "    \n",
    "        \"\"\"\n",
    "        Returns tier config for one tier.\n",
    "        The config set is selected randomly\n",
    "        \"\"\"\n",
    "    \n",
    "        tiers = list(housing_config.keys())\n",
    "\n",
    "        random_tier = random.choice(tiers)\n",
    "\n",
    "        tier_config = housing_config[random_tier]\n",
    "    \n",
    "        return tier_config"
   ]
  },
  {
   "cell_type": "code",
   "execution_count": 5,
   "id": "8d17889a",
   "metadata": {},
   "outputs": [],
   "source": [
    "def generate_one_row_random_house_data(config):\n",
    "    \n",
    "    \"\"\"\n",
    "    Returns one row of data in dict format\n",
    "    The data is randomly produced using constraints in the config file\n",
    "    \"\"\"\n",
    "\n",
    "    new_row = {}\n",
    "\n",
    "    for housing_attribute in config:\n",
    "        \n",
    "        range_values = config[housing_attribute].get(\"range\")\n",
    "        \n",
    "        list_values = config[housing_attribute].get(\"list\")\n",
    "\n",
    "        if range_values:\n",
    "            \n",
    "            new_row[housing_attribute] = get_randint_from_range_str(range_values)\n",
    "\n",
    "        if list_values:\n",
    "\n",
    "            new_row[housing_attribute] = random.choice(list_values)\n",
    "            \n",
    "    return new_row"
   ]
  },
  {
   "cell_type": "code",
   "execution_count": 6,
   "id": "03b83ca2",
   "metadata": {},
   "outputs": [],
   "source": [
    "def generate_housing_df(housing_config, row_size=1000000):\n",
    "    \n",
    "    \"\"\"\n",
    "    Returns a dataframe of random housing data per \n",
    "    constraints outlined in TOML file.\n",
    "    The number of rows is specified in the parameters.\n",
    "    \"\"\"\n",
    "\n",
    "    df_rows = []\n",
    "\n",
    "    for i in range(row_size):\n",
    "\n",
    "        tier_config = get_random_tier_config(housing_config)\n",
    "\n",
    "        new_row = generate_one_row_random_house_data(tier_config)\n",
    "\n",
    "        df_rows.append(new_row)\n",
    "\n",
    "    return pd.DataFrame(df_rows)"
   ]
  },
  {
   "cell_type": "code",
   "execution_count": 7,
   "id": "26015670",
   "metadata": {},
   "outputs": [
    {
     "data": {
      "text/html": [
       "<div>\n",
       "<style scoped>\n",
       "    .dataframe tbody tr th:only-of-type {\n",
       "        vertical-align: middle;\n",
       "    }\n",
       "\n",
       "    .dataframe tbody tr th {\n",
       "        vertical-align: top;\n",
       "    }\n",
       "\n",
       "    .dataframe thead th {\n",
       "        text-align: right;\n",
       "    }\n",
       "</style>\n",
       "<table border=\"1\" class=\"dataframe\">\n",
       "  <thead>\n",
       "    <tr style=\"text-align: right;\">\n",
       "      <th></th>\n",
       "      <th>price</th>\n",
       "      <th>bedrooms</th>\n",
       "      <th>bathrooms</th>\n",
       "      <th>council_tax</th>\n",
       "      <th>freehold</th>\n",
       "      <th>garage</th>\n",
       "      <th>parking</th>\n",
       "    </tr>\n",
       "  </thead>\n",
       "  <tbody>\n",
       "    <tr>\n",
       "      <th>0</th>\n",
       "      <td>295000</td>\n",
       "      <td>3</td>\n",
       "      <td>4</td>\n",
       "      <td>B</td>\n",
       "      <td>True</td>\n",
       "      <td>True</td>\n",
       "      <td>False</td>\n",
       "    </tr>\n",
       "    <tr>\n",
       "      <th>1</th>\n",
       "      <td>151000</td>\n",
       "      <td>3</td>\n",
       "      <td>2</td>\n",
       "      <td>B</td>\n",
       "      <td>True</td>\n",
       "      <td>False</td>\n",
       "      <td>False</td>\n",
       "    </tr>\n",
       "    <tr>\n",
       "      <th>2</th>\n",
       "      <td>378000</td>\n",
       "      <td>5</td>\n",
       "      <td>3</td>\n",
       "      <td>D</td>\n",
       "      <td>True</td>\n",
       "      <td>True</td>\n",
       "      <td>False</td>\n",
       "    </tr>\n",
       "  </tbody>\n",
       "</table>\n",
       "</div>"
      ],
      "text/plain": [
       "    price  bedrooms  bathrooms council_tax  freehold  garage  parking\n",
       "0  295000         3          4           B      True    True    False\n",
       "1  151000         3          2           B      True   False    False\n",
       "2  378000         5          3           D      True    True    False"
      ]
     },
     "execution_count": 7,
     "metadata": {},
     "output_type": "execute_result"
    }
   ],
   "source": [
    "df = generate_housing_df(housing_config)\n",
    "df.head(3)"
   ]
  },
  {
   "cell_type": "code",
   "execution_count": 8,
   "id": "6567df20",
   "metadata": {},
   "outputs": [
    {
     "data": {
      "text/html": [
       "<div>\n",
       "<style scoped>\n",
       "    .dataframe tbody tr th:only-of-type {\n",
       "        vertical-align: middle;\n",
       "    }\n",
       "\n",
       "    .dataframe tbody tr th {\n",
       "        vertical-align: top;\n",
       "    }\n",
       "\n",
       "    .dataframe thead th {\n",
       "        text-align: right;\n",
       "    }\n",
       "</style>\n",
       "<table border=\"1\" class=\"dataframe\">\n",
       "  <thead>\n",
       "    <tr style=\"text-align: right;\">\n",
       "      <th></th>\n",
       "      <th>price</th>\n",
       "      <th>bedrooms</th>\n",
       "      <th>bathrooms</th>\n",
       "    </tr>\n",
       "  </thead>\n",
       "  <tbody>\n",
       "    <tr>\n",
       "      <th>count</th>\n",
       "      <td>1000000.000000</td>\n",
       "      <td>1000000.000000</td>\n",
       "      <td>1000000.000000</td>\n",
       "    </tr>\n",
       "    <tr>\n",
       "      <th>mean</th>\n",
       "      <td>362809.449000</td>\n",
       "      <td>3.626143</td>\n",
       "      <td>3.626549</td>\n",
       "    </tr>\n",
       "    <tr>\n",
       "      <th>std</th>\n",
       "      <td>226175.701698</td>\n",
       "      <td>1.703533</td>\n",
       "      <td>1.704032</td>\n",
       "    </tr>\n",
       "    <tr>\n",
       "      <th>min</th>\n",
       "      <td>100000.000000</td>\n",
       "      <td>1.000000</td>\n",
       "      <td>1.000000</td>\n",
       "    </tr>\n",
       "    <tr>\n",
       "      <th>25%</th>\n",
       "      <td>200000.000000</td>\n",
       "      <td>3.000000</td>\n",
       "      <td>3.000000</td>\n",
       "    </tr>\n",
       "    <tr>\n",
       "      <th>50%</th>\n",
       "      <td>300000.000000</td>\n",
       "      <td>3.000000</td>\n",
       "      <td>3.000000</td>\n",
       "    </tr>\n",
       "    <tr>\n",
       "      <th>75%</th>\n",
       "      <td>401000.000000</td>\n",
       "      <td>5.000000</td>\n",
       "      <td>5.000000</td>\n",
       "    </tr>\n",
       "    <tr>\n",
       "      <th>max</th>\n",
       "      <td>1000000.000000</td>\n",
       "      <td>8.000000</td>\n",
       "      <td>8.000000</td>\n",
       "    </tr>\n",
       "  </tbody>\n",
       "</table>\n",
       "</div>"
      ],
      "text/plain": [
       "                price        bedrooms       bathrooms\n",
       "count  1000000.000000  1000000.000000  1000000.000000\n",
       "mean    362809.449000        3.626143        3.626549\n",
       "std     226175.701698        1.703533        1.704032\n",
       "min     100000.000000        1.000000        1.000000\n",
       "25%     200000.000000        3.000000        3.000000\n",
       "50%     300000.000000        3.000000        3.000000\n",
       "75%     401000.000000        5.000000        5.000000\n",
       "max    1000000.000000        8.000000        8.000000"
      ]
     },
     "execution_count": 8,
     "metadata": {},
     "output_type": "execute_result"
    }
   ],
   "source": [
    "# Check the statistical dispersion of the sample data\n",
    "\n",
    "df.describe()"
   ]
  },
  {
   "cell_type": "markdown",
   "id": "f81e49e7",
   "metadata": {},
   "source": [
    "## Save CSV file to S3\n",
    "\n",
    "Finally, we save the CSV file to S3. Fortunately, the Pandas API does all of the \"heavy lifting\" to connect to AWS."
   ]
  },
  {
   "cell_type": "code",
   "execution_count": 9,
   "id": "297b4621",
   "metadata": {},
   "outputs": [
    {
     "name": "stdout",
     "output_type": "stream",
     "text": [
      "skipping\n"
     ]
    }
   ],
   "source": [
    "%%script echo skipping\n",
    "\n",
    "S3_BUCKET_LOCATION = \"<BUCKET_LOCATION>\"\n",
    "\n",
    "df.to_csv(S3_BUCKET_LOCATION)"
   ]
  }
 ],
 "metadata": {
  "kernelspec": {
   "display_name": "Python 3 (ipykernel)",
   "language": "python",
   "name": "python3"
  },
  "language_info": {
   "codemirror_mode": {
    "name": "ipython",
    "version": 3
   },
   "file_extension": ".py",
   "mimetype": "text/x-python",
   "name": "python",
   "nbconvert_exporter": "python",
   "pygments_lexer": "ipython3",
   "version": "3.10.0"
  }
 },
 "nbformat": 4,
 "nbformat_minor": 5
}
